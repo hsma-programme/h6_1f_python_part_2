{
 "cells": [
  {
   "cell_type": "markdown",
   "metadata": {},
   "source": [
    "# HSMA 1F - Python Programming Part 2\n",
    "## Exercise 1"
   ]
  },
  {
   "cell_type": "markdown",
   "metadata": {},
   "source": [
    "This workbook is intended to accompany Session 1F of the HSMA Training Programme - Python Programming Part 2.  You should be completing this when prompted by the trainer as Exercise 1 of the session.  You should read each task, and then try to write code to achieve what you are being asked in the code cell below each set of instructions.  Remember - check your code is working by running the code cell (CTRL + Enter whilst in the cell, or click the play button to the left of the cell)."
   ]
  },
  {
   "cell_type": "markdown",
   "metadata": {},
   "source": [
    "**Task 1** Write a function named colour_comp_checker, which takes two inputs - a name, and a favourite colour.  The function checks the compatibility between a user and the computer based on their favourite colour.  Specifically, the function :\n",
    "- Prints a message greeting the user and confirming their favourite colour.\n",
    "- Sets up a list of colours (as colour names as strings)\n",
    "- Randomly picks a colour from the list as the computer's favourite colour\n",
    "- Prints a message confirming the computer's favourite colour\n",
    "- Checks whether the user's colour and computer's colour match.  If they do, an appropriate message is printed, and a True Boolean value is returned.  Otherwise, a False Boolean value is returned.\n",
    "\n",
    "Once you have written the function, ask the user to input the necessary information to pass to the function and call the function.  Check the returned output from the function, and if it's True, print a message saying that (name of the user) and the computer lived happily ever after."
   ]
  },
  {
   "cell_type": "code",
   "execution_count": null,
   "metadata": {},
   "outputs": [],
   "source": []
  },
  {
   "cell_type": "markdown",
   "metadata": {},
   "source": [
    "**Task 2** Write a function that takes as its input a list of numbers, and which will return two lists - one containing all the even numbers in the input list, and one containing all the odd numbers.  Then, randomly generate a list of 1000 random integers between 1 and 100, and use this function to separate odds from evens.  Print out the two lists once the function has been called."
   ]
  },
  {
   "cell_type": "code",
   "execution_count": null,
   "metadata": {},
   "outputs": [],
   "source": []
  }
 ],
 "metadata": {
  "kernelspec": {
   "display_name": "base",
   "language": "python",
   "name": "python3"
  },
  "language_info": {
   "codemirror_mode": {
    "name": "ipython",
    "version": 3
   },
   "file_extension": ".py",
   "mimetype": "text/x-python",
   "name": "python",
   "nbconvert_exporter": "python",
   "pygments_lexer": "ipython3",
   "version": "3.11.4"
  }
 },
 "nbformat": 4,
 "nbformat_minor": 2
}
