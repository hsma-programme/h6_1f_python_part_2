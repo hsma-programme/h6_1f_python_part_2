{
 "cells": [
  {
   "cell_type": "markdown",
   "metadata": {},
   "source": [
    "# HSMA 1F - Python Programming Part 2\n",
    "## Exercise 2 - SOLUTIONS"
   ]
  },
  {
   "cell_type": "markdown",
   "metadata": {},
   "source": [
    "This workbook is intended to accompany Session 1F of the HSMA Training Programme - Python Programming Part 2.  You should be completing this when prompted by the trainer as Exercise 2 of the session.  You should read each task, and then try to write code to achieve what you are being asked in the code cell below each set of instructions.  Remember - check your code is working by running the code cell (CTRL + Enter whilst in the cell, or click the play button to the left of the cell)."
   ]
  },
  {
   "cell_type": "markdown",
   "metadata": {},
   "source": [
    "**Task 1** Write code that asks the user to input their age and stores the input as an integer.  If anything goes wrong with this, a message should be printed and the user should be asked again.  If (and only if) a valid input is obtained, the user should be informed how old they will be at their next birthday.  Regardless of whether the user input something valid or not, a message should be printed saying what a great little app this is.  If a valid input was entered, the program will then terminate, but if there was no valid input, the user will be asked again (and continued to be asked until a valid input is provided).  You should use an exception handling framework for this task."
   ]
  },
  {
   "cell_type": "code",
   "execution_count": null,
   "metadata": {},
   "outputs": [],
   "source": [
    "# Assume user input is invalid by default\n",
    "valid_input = False\n",
    "\n",
    "# Keep doing this until there's a valid user input\n",
    "while valid_input == False:\n",
    "    # try getting input from the user and casting it as an integer.\n",
    "    # If successful, flag that you've received a valid input\n",
    "    try:\n",
    "        user_age = int(input(\"Please enter your age\"))\n",
    "        valid_input = True\n",
    "    # if there's a problem with the above, print a message to the user\n",
    "    except:\n",
    "        print (\"Sorry, that isn't a valid number.  Please try again.\")\n",
    "    # If there were no errors, calculate their age at next birthday and print\n",
    "    else:\n",
    "        print (f\"So you'll be {user_age+1} at your next birthday!\")\n",
    "    # Tell them what a great app this is, regardless of if there were problems\n",
    "    finally:\n",
    "        print (\"What a great little app this is!\")\n",
    "\n"
   ]
  },
  {
   "cell_type": "markdown",
   "metadata": {},
   "source": [
    "**Task 2** You have been provided with a file input_data.csv, which contains a number of patient records.  Each record consists of a patient ID, a name, whether the patient has received a flu vaccine, their age and the county in which they live.\n",
    "\n",
    "Read in the data from the .csv file and add each value for each record into a corresponding list.  Then, write code that calculates the percentage of patients who have been vaccinated, and prints this information for the user, rounded to 2 decimal places (but keeping the full raw number untouched).\n",
    "\n",
    "You should add exception handling to this code such that if there is a problem reading the file, a message is printed to the user informing them that the file does not exist, and they should check their directory.  This should *only* catch errors related to the file access and reading part of the code, not the calculation of the percentage of patients who are vaccinated."
   ]
  },
  {
   "cell_type": "code",
   "execution_count": null,
   "metadata": {},
   "outputs": [],
   "source": [
    "import csv # import the csv library\n",
    "\n",
    "# Set up empty lists\n",
    "list_of_ids = []\n",
    "list_of_names = []\n",
    "list_of_flu_vacc_flags = []\n",
    "list_of_ages = []\n",
    "list_of_counties = []\n",
    "\n",
    "try:\n",
    "    # Read in the csv file and add each value on each row to the appropriate list\n",
    "    with open(\"input_data.csv\", \"r\") as f:\n",
    "        reader = csv.reader(f, delimiter=\",\")\n",
    "\n",
    "        for row in reader:\n",
    "            list_of_ids.append(row[0])\n",
    "            list_of_names.append(row[1])\n",
    "            list_of_flu_vacc_flags.append(row[2])\n",
    "            list_of_ages.append(row[3])\n",
    "            list_of_counties.append(row[4])\n",
    "# Exception handling for errors related to reading from the file\n",
    "except:\n",
    "    print (\"File does not exist.  Please check directory.\")\n",
    "else:\n",
    "    # Set up a counter of vaccinated patients\n",
    "    number_vaccinated = 0\n",
    "\n",
    "    # Loop through and count how many patients have been vaccinated\n",
    "    for flag in list_of_flu_vacc_flags:\n",
    "        if flag == \"Yes\":\n",
    "            number_vaccinated += 1\n",
    "\n",
    "    # Calculate the percentage of patients vaccinated\n",
    "    perc_vacc = number_vaccinated / len(list_of_ids)\n",
    "\n",
    "    # Print the percentage of patients vaccinated\n",
    "    print (f\"{perc_vacc*100:.2f}% of patients have received the flu vaccine.\")"
   ]
  }
 ],
 "metadata": {
  "kernelspec": {
   "display_name": "base",
   "language": "python",
   "name": "python3"
  },
  "language_info": {
   "codemirror_mode": {
    "name": "ipython",
    "version": 3
   },
   "file_extension": ".py",
   "mimetype": "text/x-python",
   "name": "python",
   "nbconvert_exporter": "python",
   "pygments_lexer": "ipython3",
   "version": "3.11.4"
  }
 },
 "nbformat": 4,
 "nbformat_minor": 2
}
