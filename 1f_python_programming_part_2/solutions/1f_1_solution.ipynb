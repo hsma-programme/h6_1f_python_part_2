{
 "cells": [
  {
   "cell_type": "markdown",
   "metadata": {},
   "source": [
    "# HSMA 1F - Python Programming Part 2\n",
    "## Exercise 1 - SOLUTIONS"
   ]
  },
  {
   "cell_type": "markdown",
   "metadata": {},
   "source": [
    "This workbook is intended to accompany Session 1F of the HSMA Training Programme - Python Programming Part 2.  You should be completing this when prompted by the trainer as Exercise 1 of the session.  You should read each task, and then try to write code to achieve what you are being asked in the code cell below each set of instructions.  Remember - check your code is working by running the code cell (CTRL + Enter whilst in the cell, or click the play button to the left of the cell)."
   ]
  },
  {
   "cell_type": "markdown",
   "metadata": {},
   "source": [
    "**Task 1** Write a function named colour_comp_checker, which takes two inputs - a name, and a favourite colour.  The function checks the compatibility between a user and the computer based on their favourite colour.  Specifically, the function :\n",
    "- Prints a message greeting the user and confirming their favourite colour.\n",
    "- Sets up a list of colours (as colour names as strings)\n",
    "- Randomly picks a colour from the list as the computer's favourite colour\n",
    "- Prints a message confirming the computer's favourite colour\n",
    "- Checks whether the user's colour and computer's colour match.  If they do, an appropriate message is printed, and a True Boolean value is returned.  Otherwise, a False Boolean value is returned.\n",
    "\n",
    "Once you have written the function, ask the user to input the necessary information to pass to the function and call the function.  Check the returned output from the function, and if it's True, print a message saying that (name of the user) and the computer lived happily ever after."
   ]
  },
  {
   "cell_type": "code",
   "execution_count": null,
   "metadata": {},
   "outputs": [],
   "source": [
    "import random # used later to randomly choose from a list\n",
    "\n",
    "# function to check whether a user and computer match based on their favourite\n",
    "# colours\n",
    "def colour_comp_checker(name, fav_colour):\n",
    "    # Say hello to the user and print their favourite colour\n",
    "    print (f\"Hi {name}!  I hear your favourite colour is {fav_colour}.\")\n",
    "\n",
    "    # Randomly pick from a list of colours and declare this to be the computer's\n",
    "    # favourite colour\n",
    "    list_of_colours = [\"Red\", \"Orange\", \"Yellow\", \"Green\", \"Blue\", \"Pink\",\n",
    "                       \"Black\", \"White\"]\n",
    "    \n",
    "    computer_favourite_colour = random.choice(list_of_colours)\n",
    "\n",
    "    # Print message confirming the computer's favourite colour\n",
    "    print (f\"My favourite colour is {computer_favourite_colour}.\")\n",
    "\n",
    "    # If the favourite colours match, print a message and return True.\n",
    "    # Otherwise return False.\n",
    "    if computer_favourite_colour == fav_colour:\n",
    "        print (\"We match!\")\n",
    "        return True\n",
    "    else:\n",
    "        return False\n",
    "    \n",
    "# Ask the user to input their name and favourite colour\n",
    "user_name = input(\"Enter name\")\n",
    "user_fav_colour = input(\"Enter favourite colour\")\n",
    "\n",
    "# Call the colour_comp_checker function to see if the user and computer match\n",
    "# based on their favourite colours\n",
    "do_we_match = colour_comp_checker(user_name, user_fav_colour)\n",
    "\n",
    "# If there is a match, print a message that the user and computer lived happily\n",
    "# ever after\n",
    "if do_we_match == True:\n",
    "    print (f\"{user_name} and the computer lived happily ever after\")\n",
    "\n"
   ]
  },
  {
   "cell_type": "markdown",
   "metadata": {},
   "source": [
    "**Task 2** Write a function that takes as its input a list of numbers, and which will return two lists - one containing all the even numbers in the input list, and one containing all the odd numbers.  Then, randomly generate a list of 1000 random integers between 1 and 100, and use this function to separate odds from evens.  Print out the two lists once the function has been called."
   ]
  },
  {
   "cell_type": "code",
   "execution_count": null,
   "metadata": {},
   "outputs": [],
   "source": [
    "import random # Note - this is not required if the cell above is to be run first\n",
    "\n",
    "# Function to separate odd and even numbers into two separate lists from a\n",
    "# single list of numbers passed in\n",
    "def separate_odds_and_evens(list_of_numbers):\n",
    "    list_of_evens = [num for num in list_of_numbers if num%2 == 0]\n",
    "    list_of_odds = [num for num in list_of_numbers if num%2 == 1]\n",
    "\n",
    "    # Return separated lists\n",
    "    return list_of_odds, list_of_evens\n",
    "\n",
    "# Create empty list of numbers\n",
    "list_of_numbers = []\n",
    "\n",
    "# Randomly generate 1000 random integers between 1 and 100 and populate\n",
    "# list_of_numbers with them\n",
    "for i in range(1000):\n",
    "    list_of_numbers.append(random.randint(1,100))\n",
    "\n",
    "# Use the function above to separate the numbers into odds and evens\n",
    "odds, evens = separate_odds_and_evens(list_of_numbers)\n",
    "\n",
    "# Print the odds and evens\n",
    "print(f\"Odds : {odds}\")\n",
    "print(f\"Evens : {evens}\")\n"
   ]
  }
 ],
 "metadata": {
  "kernelspec": {
   "display_name": "base",
   "language": "python",
   "name": "python3"
  },
  "language_info": {
   "codemirror_mode": {
    "name": "ipython",
    "version": 3
   },
   "file_extension": ".py",
   "mimetype": "text/x-python",
   "name": "python",
   "nbconvert_exporter": "python",
   "pygments_lexer": "ipython3",
   "version": "3.11.4"
  }
 },
 "nbformat": 4,
 "nbformat_minor": 2
}
