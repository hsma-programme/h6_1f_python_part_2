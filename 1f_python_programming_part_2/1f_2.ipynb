{
 "cells": [
  {
   "cell_type": "markdown",
   "metadata": {},
   "source": [
    "# HSMA 1F - Python Programming Part 2\n",
    "## Exercise 2"
   ]
  },
  {
   "cell_type": "markdown",
   "metadata": {},
   "source": [
    "This workbook is intended to accompany Session 1F of the HSMA Training Programme - Python Programming Part 2.  You should be completing this when prompted by the trainer as Exercise 2 of the session.  You should read each task, and then try to write code to achieve what you are being asked in the code cell below each set of instructions.  Remember - check your code is working by running the code cell (CTRL + Enter whilst in the cell, or click the play button to the left of the cell)."
   ]
  },
  {
   "cell_type": "markdown",
   "metadata": {},
   "source": [
    "**Task 1** Write code that asks the user to input their age and stores the input as an integer.  If anything goes wrong with this, a message should be printed and the user should be asked again.  If (and only if) a valid input is obtained, the user should be informed how old they will be at their next birthday.  Regardless of whether the user input something valid or not, a message should be printed saying what a great little app this is.  If a valid input was entered, the program will then terminate, but if there was no valid input, the user will be asked again (and continued to be asked until a valid input is provided).  You should use an exception handling framework for this task."
   ]
  },
  {
   "cell_type": "code",
   "execution_count": null,
   "metadata": {},
   "outputs": [],
   "source": []
  },
  {
   "cell_type": "markdown",
   "metadata": {},
   "source": [
    "**Task 2** You have been provided with a file input_data.csv, which contains a number of patient records.  Each record consists of a patient ID, a name, whether the patient has received a flu vaccine, their age and the county in which they live.\n",
    "\n",
    "Read in the data from the .csv file and add each value for each record into a corresponding list.  Then, write code that calculates the percentage of patients who have been vaccinated, and prints this information for the user, rounded to 2 decimal places (but keeping the full raw number untouched).\n",
    "\n",
    "You should add exception handling to this code such that if there is a problem reading the file, a message is printed to the user informing them that the file does not exist, and they should check their directory.  This should *only* catch errors related to the file access and reading part of the code, not the calculation of the percentage of patients who are vaccinated."
   ]
  },
  {
   "cell_type": "code",
   "execution_count": null,
   "metadata": {},
   "outputs": [],
   "source": []
  }
 ],
 "metadata": {
  "kernelspec": {
   "display_name": "base",
   "language": "python",
   "name": "python3"
  },
  "language_info": {
   "codemirror_mode": {
    "name": "ipython",
    "version": 3
   },
   "file_extension": ".py",
   "mimetype": "text/x-python",
   "name": "python",
   "nbconvert_exporter": "python",
   "pygments_lexer": "ipython3",
   "version": "3.11.4"
  }
 },
 "nbformat": 4,
 "nbformat_minor": 2
}
